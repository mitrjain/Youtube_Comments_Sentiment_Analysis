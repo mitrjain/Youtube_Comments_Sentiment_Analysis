{
  "cells": [
    {
      "cell_type": "code",
      "execution_count": null,
      "metadata": {
        "id": "3xwSSt3Bw_Wj"
      },
      "outputs": [],
      "source": [
        "import pandas as pd\n",
        "import spacy\n",
        "import nltk\n",
        "from nltk.corpus import stopwords\n",
        "from gensim.models import KeyedVectors\n",
        "import gensim.downloader as api\n",
        "from gensim.models import Word2Vec\n",
        "import tensorflow as tf\n",
        "import numpy as np"
      ]
    },
    {
      "cell_type": "code",
      "execution_count": null,
      "metadata": {
        "id": "vrGwN5wmxKMN"
      },
      "outputs": [],
      "source": [
        "# Loading already pre-processed dataset from its pickle file. This pickle file was created during running LSTM models\n",
        "df = pd.read_pickle(\"./processed_dataset.pkl\")"
      ]
    },
    {
      "cell_type": "code",
      "execution_count": null,
      "metadata": {
        "colab": {
          "base_uri": "https://localhost:8080/",
          "height": 467
        },
        "id": "UvVILuDKxedB",
        "outputId": "fced026a-0165-4891-d2f3-be54e9782acc"
      },
      "outputs": [
        {
          "data": {
            "text/html": [
              "\n",
              "  <div id=\"df-22a15354-afe3-497e-8e6d-f8aeec0ea0c3\">\n",
              "    <div class=\"colab-df-container\">\n",
              "      <div>\n",
              "<style scoped>\n",
              "    .dataframe tbody tr th:only-of-type {\n",
              "        vertical-align: middle;\n",
              "    }\n",
              "\n",
              "    .dataframe tbody tr th {\n",
              "        vertical-align: top;\n",
              "    }\n",
              "\n",
              "    .dataframe thead th {\n",
              "        text-align: right;\n",
              "    }\n",
              "</style>\n",
              "<table border=\"1\" class=\"dataframe\">\n",
              "  <thead>\n",
              "    <tr style=\"text-align: right;\">\n",
              "      <th></th>\n",
              "      <th>text</th>\n",
              "      <th>polarity</th>\n",
              "      <th>sentiment</th>\n",
              "      <th>tokenized_text</th>\n",
              "      <th>tokenized_text_2</th>\n",
              "    </tr>\n",
              "  </thead>\n",
              "  <tbody>\n",
              "    <tr>\n",
              "      <th>0</th>\n",
              "      <td>god be praised a from drcongo</td>\n",
              "      <td>0.000000</td>\n",
              "      <td>neutral</td>\n",
              "      <td>[god, be, praised, a, from, drcongo]</td>\n",
              "      <td>god praised drcongo</td>\n",
              "    </tr>\n",
              "    <tr>\n",
              "      <th>1</th>\n",
              "      <td>fantastic performance good to see richard</td>\n",
              "      <td>0.550000</td>\n",
              "      <td>positive</td>\n",
              "      <td>[fantastic, performance, good, to, see, richard]</td>\n",
              "      <td>fantastic performance good see richard</td>\n",
              "    </tr>\n",
              "    <tr>\n",
              "      <th>2</th>\n",
              "      <td>greetings from kosovo south east europe</td>\n",
              "      <td>0.000000</td>\n",
              "      <td>neutral</td>\n",
              "      <td>[greetings, from, kosovo, south, east, europe]</td>\n",
              "      <td>greetings kosovo south east europe</td>\n",
              "    </tr>\n",
              "    <tr>\n",
              "      <th>3</th>\n",
              "      <td>it is monday evening in sydney australia when ...</td>\n",
              "      <td>0.387500</td>\n",
              "      <td>positive</td>\n",
              "      <td>[it, is, monday, evening, in, sydney, australi...</td>\n",
              "      <td>monday evening sydney australia tune week appr...</td>\n",
              "    </tr>\n",
              "    <tr>\n",
              "      <th>4</th>\n",
              "      <td>watching this at the end of the day was so upl...</td>\n",
              "      <td>0.475000</td>\n",
              "      <td>positive</td>\n",
              "      <td>[watching, this, at, the, end, of, the, day, w...</td>\n",
              "      <td>watching end day uplifting comforting song cho...</td>\n",
              "    </tr>\n",
              "    <tr>\n",
              "      <th>...</th>\n",
              "      <td>...</td>\n",
              "      <td>...</td>\n",
              "      <td>...</td>\n",
              "      <td>...</td>\n",
              "      <td>...</td>\n",
              "    </tr>\n",
              "    <tr>\n",
              "      <th>56776</th>\n",
              "      <td>szelenskyy snow sorting criminal that is a fact</td>\n",
              "      <td>-0.400000</td>\n",
              "      <td>negative</td>\n",
              "      <td>[szelenskyy, snow, sorting, criminal, that, is...</td>\n",
              "      <td>szelenskyy snow sorting criminal fact</td>\n",
              "    </tr>\n",
              "    <tr>\n",
              "      <th>56777</th>\n",
              "      <td>congratulations now europe becomes chessboard ...</td>\n",
              "      <td>0.500000</td>\n",
              "      <td>positive</td>\n",
              "      <td>[congratulations, now, europe, becomes, chessb...</td>\n",
              "      <td>congratulations europe becomes chessboard supe...</td>\n",
              "    </tr>\n",
              "    <tr>\n",
              "      <th>56778</th>\n",
              "      <td>if the west would deliver more weapons atm the...</td>\n",
              "      <td>0.178571</td>\n",
              "      <td>positive</td>\n",
              "      <td>[if, the, west, would, deliver, more, weapons,...</td>\n",
              "      <td>west would deliver weapons atm seems enough st...</td>\n",
              "    </tr>\n",
              "    <tr>\n",
              "      <th>56779</th>\n",
              "      <td>ukrainian people are showing the whole world w...</td>\n",
              "      <td>0.260000</td>\n",
              "      <td>positive</td>\n",
              "      <td>[ukrainian, people, are, showing, the, whole, ...</td>\n",
              "      <td>ukrainian people showing whole world fighting ...</td>\n",
              "    </tr>\n",
              "    <tr>\n",
              "      <th>56780</th>\n",
              "      <td>using money of policians to buy weapons protec...</td>\n",
              "      <td>0.000000</td>\n",
              "      <td>neutral</td>\n",
              "      <td>[using, money, of, policians, to, buy, weapons...</td>\n",
              "      <td>using money policians buy weapons protect coun...</td>\n",
              "    </tr>\n",
              "  </tbody>\n",
              "</table>\n",
              "<p>56781 rows × 5 columns</p>\n",
              "</div>\n",
              "      <button class=\"colab-df-convert\" onclick=\"convertToInteractive('df-22a15354-afe3-497e-8e6d-f8aeec0ea0c3')\"\n",
              "              title=\"Convert this dataframe to an interactive table.\"\n",
              "              style=\"display:none;\">\n",
              "        \n",
              "  <svg xmlns=\"http://www.w3.org/2000/svg\" height=\"24px\"viewBox=\"0 0 24 24\"\n",
              "       width=\"24px\">\n",
              "    <path d=\"M0 0h24v24H0V0z\" fill=\"none\"/>\n",
              "    <path d=\"M18.56 5.44l.94 2.06.94-2.06 2.06-.94-2.06-.94-.94-2.06-.94 2.06-2.06.94zm-11 1L8.5 8.5l.94-2.06 2.06-.94-2.06-.94L8.5 2.5l-.94 2.06-2.06.94zm10 10l.94 2.06.94-2.06 2.06-.94-2.06-.94-.94-2.06-.94 2.06-2.06.94z\"/><path d=\"M17.41 7.96l-1.37-1.37c-.4-.4-.92-.59-1.43-.59-.52 0-1.04.2-1.43.59L10.3 9.45l-7.72 7.72c-.78.78-.78 2.05 0 2.83L4 21.41c.39.39.9.59 1.41.59.51 0 1.02-.2 1.41-.59l7.78-7.78 2.81-2.81c.8-.78.8-2.07 0-2.86zM5.41 20L4 18.59l7.72-7.72 1.47 1.35L5.41 20z\"/>\n",
              "  </svg>\n",
              "      </button>\n",
              "      \n",
              "  <style>\n",
              "    .colab-df-container {\n",
              "      display:flex;\n",
              "      flex-wrap:wrap;\n",
              "      gap: 12px;\n",
              "    }\n",
              "\n",
              "    .colab-df-convert {\n",
              "      background-color: #E8F0FE;\n",
              "      border: none;\n",
              "      border-radius: 50%;\n",
              "      cursor: pointer;\n",
              "      display: none;\n",
              "      fill: #1967D2;\n",
              "      height: 32px;\n",
              "      padding: 0 0 0 0;\n",
              "      width: 32px;\n",
              "    }\n",
              "\n",
              "    .colab-df-convert:hover {\n",
              "      background-color: #E2EBFA;\n",
              "      box-shadow: 0px 1px 2px rgba(60, 64, 67, 0.3), 0px 1px 3px 1px rgba(60, 64, 67, 0.15);\n",
              "      fill: #174EA6;\n",
              "    }\n",
              "\n",
              "    [theme=dark] .colab-df-convert {\n",
              "      background-color: #3B4455;\n",
              "      fill: #D2E3FC;\n",
              "    }\n",
              "\n",
              "    [theme=dark] .colab-df-convert:hover {\n",
              "      background-color: #434B5C;\n",
              "      box-shadow: 0px 1px 3px 1px rgba(0, 0, 0, 0.15);\n",
              "      filter: drop-shadow(0px 1px 2px rgba(0, 0, 0, 0.3));\n",
              "      fill: #FFFFFF;\n",
              "    }\n",
              "  </style>\n",
              "\n",
              "      <script>\n",
              "        const buttonEl =\n",
              "          document.querySelector('#df-22a15354-afe3-497e-8e6d-f8aeec0ea0c3 button.colab-df-convert');\n",
              "        buttonEl.style.display =\n",
              "          google.colab.kernel.accessAllowed ? 'block' : 'none';\n",
              "\n",
              "        async function convertToInteractive(key) {\n",
              "          const element = document.querySelector('#df-22a15354-afe3-497e-8e6d-f8aeec0ea0c3');\n",
              "          const dataTable =\n",
              "            await google.colab.kernel.invokeFunction('convertToInteractive',\n",
              "                                                     [key], {});\n",
              "          if (!dataTable) return;\n",
              "\n",
              "          const docLinkHtml = 'Like what you see? Visit the ' +\n",
              "            '<a target=\"_blank\" href=https://colab.research.google.com/notebooks/data_table.ipynb>data table notebook</a>'\n",
              "            + ' to learn more about interactive tables.';\n",
              "          element.innerHTML = '';\n",
              "          dataTable['output_type'] = 'display_data';\n",
              "          await google.colab.output.renderOutput(dataTable, element);\n",
              "          const docLink = document.createElement('div');\n",
              "          docLink.innerHTML = docLinkHtml;\n",
              "          element.appendChild(docLink);\n",
              "        }\n",
              "      </script>\n",
              "    </div>\n",
              "  </div>\n",
              "  "
            ],
            "text/plain": [
              "                                                    text  polarity sentiment  \\\n",
              "0                          god be praised a from drcongo  0.000000   neutral   \n",
              "1              fantastic performance good to see richard  0.550000  positive   \n",
              "2                greetings from kosovo south east europe  0.000000   neutral   \n",
              "3      it is monday evening in sydney australia when ...  0.387500  positive   \n",
              "4      watching this at the end of the day was so upl...  0.475000  positive   \n",
              "...                                                  ...       ...       ...   \n",
              "56776    szelenskyy snow sorting criminal that is a fact -0.400000  negative   \n",
              "56777  congratulations now europe becomes chessboard ...  0.500000  positive   \n",
              "56778  if the west would deliver more weapons atm the...  0.178571  positive   \n",
              "56779  ukrainian people are showing the whole world w...  0.260000  positive   \n",
              "56780  using money of policians to buy weapons protec...  0.000000   neutral   \n",
              "\n",
              "                                          tokenized_text  \\\n",
              "0                   [god, be, praised, a, from, drcongo]   \n",
              "1       [fantastic, performance, good, to, see, richard]   \n",
              "2         [greetings, from, kosovo, south, east, europe]   \n",
              "3      [it, is, monday, evening, in, sydney, australi...   \n",
              "4      [watching, this, at, the, end, of, the, day, w...   \n",
              "...                                                  ...   \n",
              "56776  [szelenskyy, snow, sorting, criminal, that, is...   \n",
              "56777  [congratulations, now, europe, becomes, chessb...   \n",
              "56778  [if, the, west, would, deliver, more, weapons,...   \n",
              "56779  [ukrainian, people, are, showing, the, whole, ...   \n",
              "56780  [using, money, of, policians, to, buy, weapons...   \n",
              "\n",
              "                                        tokenized_text_2  \n",
              "0                                    god praised drcongo  \n",
              "1                 fantastic performance good see richard  \n",
              "2                     greetings kosovo south east europe  \n",
              "3      monday evening sydney australia tune week appr...  \n",
              "4      watching end day uplifting comforting song cho...  \n",
              "...                                                  ...  \n",
              "56776              szelenskyy snow sorting criminal fact  \n",
              "56777  congratulations europe becomes chessboard supe...  \n",
              "56778  west would deliver weapons atm seems enough st...  \n",
              "56779  ukrainian people showing whole world fighting ...  \n",
              "56780  using money policians buy weapons protect coun...  \n",
              "\n",
              "[56781 rows x 5 columns]"
            ]
          },
          "execution_count": 3,
          "metadata": {},
          "output_type": "execute_result"
        }
      ],
      "source": [
        "df"
      ]
    },
    {
      "cell_type": "code",
      "execution_count": null,
      "metadata": {
        "id": "N9kicJH_ztel"
      },
      "outputs": [],
      "source": [
        "sentences = df['tokenized_text_2']\n",
        "sentences = [str(s) for s in sentences]\n"
      ]
    },
    {
      "cell_type": "code",
      "execution_count": null,
      "metadata": {
        "id": "eXfOyIjHzwXe"
      },
      "outputs": [],
      "source": [
        "def normalizeRangeR(val):\n",
        "  oldMin = -1.0\n",
        "  oldMax = 1.0\n",
        "  newMin =0.0\n",
        "  newMax = 1.0\n",
        "  oldRange  = oldMax - oldMin\n",
        "  newRange = newMax - newMin\n",
        "  polarity = (((val - oldMin) * newRange) / oldRange) + newMin\n",
        "  return polarity\n",
        "\n",
        "def normalizeRangeC(val):\n",
        "  if val>=0:\n",
        "    return int(1)\n",
        "  else:\n",
        "    return int(0)\n",
        "\n",
        "# Perform additional steps in data preparation for classification and regression tasks\n",
        "\n",
        "# Converting labels to 1 or 0 for classification tasks    \n",
        "df['polarity_c']=df['polarity'].apply(lambda x: normalizeRangeC(x))\n",
        "\n",
        "# Scaling labels in the range  0 to 1 for regression tasks\n",
        "df['polarity_r']=df['polarity'].apply(lambda x: normalizeRangeR(x))"
      ]
    },
    {
      "cell_type": "code",
      "execution_count": null,
      "metadata": {
        "id": "nR3NF_18z0f2"
      },
      "outputs": [],
      "source": [
        "preTrainedModelPath = '../root/gensim-data/word2vec-google-news-300/word2vec-google-news-300.gz'\n",
        "word_vectors = KeyedVectors.load_word2vec_format(preTrainedModelPath, binary=True)"
      ]
    },
    {
      "cell_type": "code",
      "execution_count": null,
      "metadata": {
        "id": "WxuSpDmb0HVx"
      },
      "outputs": [],
      "source": [
        "labelsC = df['polarity_c']\n",
        "labelsR = df['polarity_r']"
      ]
    },
    {
      "cell_type": "code",
      "execution_count": null,
      "metadata": {
        "colab": {
          "base_uri": "https://localhost:8080/"
        },
        "id": "3rQHw34u0a4S",
        "outputId": "23e6f885-5b1f-4dbe-c5f7-acb19b1d7674"
      },
      "outputs": [
        {
          "data": {
            "text/plain": [
              "0        0.500000\n",
              "1        0.775000\n",
              "2        0.500000\n",
              "3        0.693750\n",
              "4        0.737500\n",
              "           ...   \n",
              "56776    0.300000\n",
              "56777    0.750000\n",
              "56778    0.589286\n",
              "56779    0.630000\n",
              "56780    0.500000\n",
              "Name: polarity_r, Length: 56781, dtype: float64"
            ]
          },
          "execution_count": 10,
          "metadata": {},
          "output_type": "execute_result"
        }
      ],
      "source": [
        "labelsR"
      ]
    },
    {
      "cell_type": "code",
      "execution_count": null,
      "metadata": {
        "id": "KK0jXPj10S9g"
      },
      "outputs": [],
      "source": [
        "# CREATING TRAIN TEST SPLIT\n",
        "from sklearn.model_selection import train_test_split\n",
        "x_trainC, x_testC, y_trainC, y_testC = train_test_split(sentences, labelsC, test_size = 0.3, train_size=0.7, random_state=1)\n",
        "\n",
        "x_trainR, x_testR, y_trainR, y_testR = train_test_split(sentences, labelsR, test_size = 0.3, train_size=0.7, random_state=1)"
      ]
    },
    {
      "cell_type": "code",
      "execution_count": null,
      "metadata": {
        "id": "hw6Bg_AW0o9C"
      },
      "outputs": [],
      "source": [
        "tokenizer = tf.keras.preprocessing.text.Tokenizer(oov_token=\"<OOV>\")\n",
        "tokenizer.fit_on_texts(x_trainC)\n",
        "vocab_size = len(tokenizer.word_counts) + 2"
      ]
    },
    {
      "cell_type": "code",
      "execution_count": null,
      "metadata": {
        "colab": {
          "base_uri": "https://localhost:8080/"
        },
        "id": "88091Wxt06pk",
        "outputId": "161e9845-958a-4632-a0b6-baa31b6be83b"
      },
      "outputs": [
        {
          "name": "stdout",
          "output_type": "stream",
          "text": [
            "38688\n"
          ]
        }
      ],
      "source": [
        "print(vocab_size)"
      ]
    },
    {
      "cell_type": "code",
      "execution_count": null,
      "metadata": {
        "id": "wXgtFCNF1AAz"
      },
      "outputs": [],
      "source": [
        "word2idx= tokenizer.word_index\n",
        "idx2word = {k:v for (v,k) in word2idx.items()}"
      ]
    },
    {
      "cell_type": "code",
      "execution_count": null,
      "metadata": {
        "colab": {
          "base_uri": "https://localhost:8080/"
        },
        "id": "KS-GomXS1C8U",
        "outputId": "42832f0f-611e-4386-d3ac-6d8dee82fb07"
      },
      "outputs": [
        {
          "name": "stdout",
          "output_type": "stream",
          "text": [
            "[(75, 14.0), (80, 17.0), (90, 28.0), (95, 44.0), (99, 123.0), (100, 1030.0)]\n"
          ]
        }
      ],
      "source": [
        "seqLengths = np.array([len( s.split() ) for s in x_trainC] )\n",
        "print( [ (p, np.percentile(seqLengths, p)) for p in [75,80,90,95,99,100]])"
      ]
    },
    {
      "cell_type": "code",
      "execution_count": null,
      "metadata": {
        "id": "uPB__jG31IHT"
      },
      "outputs": [],
      "source": [
        "maxSeqLen = 125"
      ]
    },
    {
      "cell_type": "code",
      "execution_count": null,
      "metadata": {
        "id": "tt7vfeXu1K2S"
      },
      "outputs": [],
      "source": [
        "x_train_as_ints = tokenizer.texts_to_sequences(x_trainC)\n",
        "x_train_as_ints = tf.keras.preprocessing.sequence.pad_sequences(x_train_as_ints, maxlen=maxSeqLen)\n",
        "\n",
        "y_train_as_ints_C = np.array(y_trainC)\n",
        "y_train_as_ints_R = np.array(y_trainR)"
      ]
    },
    {
      "cell_type": "code",
      "execution_count": null,
      "metadata": {
        "id": "ReOlfBIU1LcU"
      },
      "outputs": [],
      "source": [
        "x_test_as_ints = tokenizer.texts_to_sequences(x_testC)\n",
        "x_test_as_ints = tf.keras.preprocessing.sequence.pad_sequences(x_test_as_ints, maxlen=maxSeqLen)\n",
        "\n",
        "y_test_as_ints_C = np.array(y_testC)\n",
        "y_test_as_ints_R = np.array(y_testR)"
      ]
    },
    {
      "cell_type": "code",
      "execution_count": null,
      "metadata": {
        "id": "L2p8Mttc1RV5"
      },
      "outputs": [],
      "source": [
        "# Creating and embedding matrix for our vocabulary\n",
        "\n",
        "embedding_dim = 300\n",
        "hits = 0\n",
        "misses =0\n",
        "\n",
        "embeddingMatrix = np.zeros((vocab_size,embedding_dim))\n",
        "for word, i in tokenizer.word_index.items():\n",
        "  if word in word_vectors:\n",
        "    embeddingVector = word_vectors[word]\n",
        "    embeddingMatrix[i] = embeddingVector\n",
        "    hits+=1\n",
        "  else:\n",
        "    misses+=1"
      ]
    },
    {
      "cell_type": "code",
      "execution_count": null,
      "metadata": {
        "colab": {
          "base_uri": "https://localhost:8080/"
        },
        "id": "Le7RYnQq1UOR",
        "outputId": "12df6c9d-b18a-4d50-af7a-748e61054383"
      },
      "outputs": [
        {
          "name": "stdout",
          "output_type": "stream",
          "text": [
            "Converted words: 27728 (no. of misses: 10959)\n"
          ]
        }
      ],
      "source": [
        "print(\"Converted words: %d (no. of misses: %d)\" % (hits, misses))"
      ]
    },
    {
      "cell_type": "code",
      "execution_count": null,
      "metadata": {
        "colab": {
          "base_uri": "https://localhost:8080/"
        },
        "id": "0-K7BjD8y-Fv",
        "outputId": "bd2ea93d-1987-4e10-b837-32524084da8f"
      },
      "outputs": [
        {
          "name": "stdout",
          "output_type": "stream",
          "text": [
            "Model: \"sequential_5\"\n",
            "_________________________________________________________________\n",
            " Layer (type)                Output Shape              Param #   \n",
            "=================================================================\n",
            " embedding_5 (Embedding)     (None, 125, 300)          11606400  \n",
            "                                                                 \n",
            " conv1d_8 (Conv1D)           (None, 118, 32)           76832     \n",
            "                                                                 \n",
            " max_pooling1d_5 (MaxPooling  (None, 59, 32)           0         \n",
            " 1D)                                                             \n",
            "                                                                 \n",
            " conv1d_9 (Conv1D)           (None, 52, 64)            16448     \n",
            "                                                                 \n",
            " max_pooling1d_6 (MaxPooling  (None, 26, 64)           0         \n",
            " 1D)                                                             \n",
            "                                                                 \n",
            " flatten_5 (Flatten)         (None, 1664)              0         \n",
            "                                                                 \n",
            " dense_10 (Dense)            (None, 10)                16650     \n",
            "                                                                 \n",
            " dense_11 (Dense)            (None, 1)                 11        \n",
            "                                                                 \n",
            "=================================================================\n",
            "Total params: 11,716,341\n",
            "Trainable params: 109,941\n",
            "Non-trainable params: 11,606,400\n",
            "_________________________________________________________________\n",
            "None\n"
          ]
        }
      ],
      "source": [
        "# Defining the classification model\n",
        "\n",
        "modelC = tf.keras.models.Sequential()\n",
        "modelC.add(tf.keras.layers.Embedding(\n",
        "    vocab_size, \n",
        "    300,\n",
        "    input_length=maxSeqLen,\n",
        "    embeddings_initializer=tf.keras.initializers.Constant(embeddingMatrix),\n",
        "    trainable=False) )\n",
        "modelC.add(tf.keras.layers.Conv1D(filters=32, kernel_size=8, activation='relu'))\n",
        "modelC.add(tf.keras.layers.MaxPooling1D(pool_size=2))\n",
        "modelC.add(tf.keras.layers.Conv1D(filters=64, kernel_size=8, activation='relu'))\n",
        "modelC.add(tf.keras.layers.MaxPooling1D(pool_size=2))\n",
        "modelC.add(tf.keras.layers.Flatten())\n",
        "modelC.add(tf.keras.layers.Dense(10, activation='relu'))\n",
        "modelC.add(tf.keras.layers.Dense(1, activation='sigmoid'))\n",
        "print(modelC.summary())"
      ]
    },
    {
      "cell_type": "code",
      "execution_count": null,
      "metadata": {
        "colab": {
          "base_uri": "https://localhost:8080/"
        },
        "id": "WO2xtpkh2DEq",
        "outputId": "d3841fbe-0b08-419d-ead9-765b9c841e30"
      },
      "outputs": [
        {
          "name": "stdout",
          "output_type": "stream",
          "text": [
            "Model: \"sequential_6\"\n",
            "_________________________________________________________________\n",
            " Layer (type)                Output Shape              Param #   \n",
            "=================================================================\n",
            " embedding_6 (Embedding)     (None, 125, 300)          11606400  \n",
            "                                                                 \n",
            " conv1d_10 (Conv1D)          (None, 118, 32)           76832     \n",
            "                                                                 \n",
            " max_pooling1d_7 (MaxPooling  (None, 59, 32)           0         \n",
            " 1D)                                                             \n",
            "                                                                 \n",
            " conv1d_11 (Conv1D)          (None, 52, 64)            16448     \n",
            "                                                                 \n",
            " max_pooling1d_8 (MaxPooling  (None, 26, 64)           0         \n",
            " 1D)                                                             \n",
            "                                                                 \n",
            " flatten_6 (Flatten)         (None, 1664)              0         \n",
            "                                                                 \n",
            " dense_12 (Dense)            (None, 10)                16650     \n",
            "                                                                 \n",
            " dense_13 (Dense)            (None, 1)                 11        \n",
            "                                                                 \n",
            "=================================================================\n",
            "Total params: 11,716,341\n",
            "Trainable params: 109,941\n",
            "Non-trainable params: 11,606,400\n",
            "_________________________________________________________________\n",
            "None\n"
          ]
        }
      ],
      "source": [
        "# Defining the regression model\n",
        "\n",
        "modelR = tf.keras.models.Sequential()\n",
        "modelR.add(tf.keras.layers.Embedding(\n",
        "    vocab_size, \n",
        "    300,\n",
        "    input_length=maxSeqLen,\n",
        "    embeddings_initializer=tf.keras.initializers.Constant(embeddingMatrix),\n",
        "    trainable=False) )\n",
        "modelR.add(tf.keras.layers.Conv1D(filters=32, kernel_size=8, activation='relu'))\n",
        "modelR.add(tf.keras.layers.MaxPooling1D(pool_size=2))\n",
        "modelR.add(tf.keras.layers.Conv1D(filters=64, kernel_size=8, activation='relu'))\n",
        "modelR.add(tf.keras.layers.MaxPooling1D(pool_size=2))\n",
        "modelR.add(tf.keras.layers.Flatten())\n",
        "modelR.add(tf.keras.layers.Dense(10, activation='relu'))\n",
        "modelR.add(tf.keras.layers.Dense(1))\n",
        "print(modelR.summary())"
      ]
    },
    {
      "cell_type": "code",
      "execution_count": null,
      "metadata": {
        "id": "TYQ9Xsfs2o1S"
      },
      "outputs": [],
      "source": [
        "data_dir = '../root/dataC'\n",
        "logs_dir = '../root/logsC'\n",
        "\n",
        "best_model_file_C = '../root/dataC/best_model_CNN_C.h5'\n",
        "best_model_file_R = '../root/dataC/best_model_CNN_R.h5'\n",
        "\n",
        "checkpointC = tf.keras.callbacks.ModelCheckpoint(best_model_file_C,save_best_only=True,save_weights_only=True)\n",
        "checkpointR = tf.keras.callbacks.ModelCheckpoint(best_model_file_R,save_best_only=True,save_weights_only=True)\n",
        "\n",
        "tensorboard = tf.keras.callbacks.TensorBoard(log_dir=logs_dir)"
      ]
    },
    {
      "cell_type": "code",
      "execution_count": null,
      "metadata": {
        "id": "1DYz4Qgs2x98"
      },
      "outputs": [],
      "source": [
        "modelC.compile(loss='binary_crossentropy',optimizer='adam',metrics=['accuracy'])"
      ]
    },
    {
      "cell_type": "code",
      "execution_count": null,
      "metadata": {
        "id": "ZCf-b-i628wh"
      },
      "outputs": [],
      "source": [
        "modelR.compile(loss='mse',optimizer='adam',metrics=['mse'])"
      ]
    },
    {
      "cell_type": "code",
      "execution_count": null,
      "metadata": {
        "colab": {
          "base_uri": "https://localhost:8080/"
        },
        "id": "Xf8uy7dk3D-w",
        "outputId": "67823d12-0d09-4b8c-f584-bd0c669ac2a2"
      },
      "outputs": [
        {
          "name": "stdout",
          "output_type": "stream",
          "text": [
            "Epoch 1/10\n",
            "497/497 [==============================] - 13s 25ms/step - loss: 0.4563 - accuracy: 0.7984 - val_loss: 0.3909 - val_accuracy: 0.8301\n",
            "Epoch 2/10\n",
            "497/497 [==============================] - 12s 23ms/step - loss: 0.3410 - accuracy: 0.8546 - val_loss: 0.3302 - val_accuracy: 0.8626\n",
            "Epoch 3/10\n",
            "497/497 [==============================] - 12s 23ms/step - loss: 0.2507 - accuracy: 0.9000 - val_loss: 0.3258 - val_accuracy: 0.8642\n",
            "Epoch 4/10\n",
            "497/497 [==============================] - 12s 23ms/step - loss: 0.1598 - accuracy: 0.9433 - val_loss: 0.3576 - val_accuracy: 0.8755\n",
            "Epoch 5/10\n",
            "497/497 [==============================] - 12s 25ms/step - loss: 0.0901 - accuracy: 0.9715 - val_loss: 0.4348 - val_accuracy: 0.8691\n",
            "Epoch 6/10\n",
            "497/497 [==============================] - 11s 23ms/step - loss: 0.0557 - accuracy: 0.9852 - val_loss: 0.5237 - val_accuracy: 0.8631\n",
            "Epoch 7/10\n",
            "497/497 [==============================] - 15s 30ms/step - loss: 0.0390 - accuracy: 0.9893 - val_loss: 0.6056 - val_accuracy: 0.8665\n",
            "Epoch 8/10\n",
            "497/497 [==============================] - 19s 39ms/step - loss: 0.0342 - accuracy: 0.9898 - val_loss: 0.6177 - val_accuracy: 0.8698\n",
            "Epoch 9/10\n",
            "497/497 [==============================] - 15s 31ms/step - loss: 0.0261 - accuracy: 0.9928 - val_loss: 0.7330 - val_accuracy: 0.8681\n",
            "Epoch 10/10\n",
            "497/497 [==============================] - 12s 25ms/step - loss: 0.0270 - accuracy: 0.9920 - val_loss: 0.7341 - val_accuracy: 0.8698\n"
          ]
        }
      ],
      "source": [
        "historyC = modelC.fit(x_train_as_ints, y_train_as_ints_C, epochs=10,validation_split=0.2,batch_size =64,callbacks=[checkpointC, tensorboard])"
      ]
    },
    {
      "cell_type": "code",
      "execution_count": null,
      "metadata": {
        "colab": {
          "base_uri": "https://localhost:8080/",
          "height": 472
        },
        "id": "SzV54KCONWXh",
        "outputId": "e3e46df9-c468-49b2-8e6e-b9ccd25eb141"
      },
      "outputs": [
        {
          "data": {
            "image/png": "[encoded data removed]",
            "text/plain": [
              "<Figure size 640x480 with 1 Axes>"
            ]
          },
          "metadata": {},
          "output_type": "display_data"
        }
      ],
      "source": [
        "import matplotlib.pyplot as plt\n",
        "import tensorflow as tf\n",
        "\n",
        "# Plot the training and validation loss vs epoch\n",
        "train_loss = historyC.history['loss']\n",
        "val_loss = historyC.history['val_loss']\n",
        "epochs = range(1, len(train_loss) + 1)\n",
        "\n",
        "plt.plot(epochs, train_loss, 'b', label='Training loss')\n",
        "plt.plot(epochs, val_loss, 'r', label='Validation loss')\n",
        "plt.title('Training and validation loss')\n",
        "plt.xlabel('Epochs')\n",
        "plt.ylabel('Loss')\n",
        "plt.legend()\n",
        "plt.show()"
      ]
    },
    {
      "cell_type": "code",
      "execution_count": null,
      "metadata": {
        "id": "FpcP55FkOgI0"
      },
      "outputs": [],
      "source": [
        "modelC.load_weights(best_model_file_C)\n",
        "modelC.compile(loss='binary_crossentropy',optimizer='adam',metrics=['accuracy'])"
      ]
    },
    {
      "cell_type": "code",
      "execution_count": null,
      "metadata": {
        "colab": {
          "base_uri": "https://localhost:8080/"
        },
        "id": "z9yCyZb4QB7q",
        "outputId": "fc767f4d-3cdb-46ab-a792-933747ad8ac2"
      },
      "outputs": [
        {
          "name": "stdout",
          "output_type": "stream",
          "text": [
            "533/533 [==============================] - 2s 4ms/step - loss: 0.3271 - accuracy: 0.8637\n"
          ]
        },
        {
          "data": {
            "text/plain": [
              "[0.327146977186203, 0.8636924028396606]"
            ]
          },
          "execution_count": 68,
          "metadata": {},
          "output_type": "execute_result"
        }
      ],
      "source": [
        "modelC.evaluate(x_test_as_ints,y_test_as_ints_C)"
      ]
    },
    {
      "cell_type": "code",
      "execution_count": null,
      "metadata": {
        "id": "U24pk5dS4Fs8"
      },
      "outputs": [],
      "source": [
        "nlp = spacy.load('en_core_web_sm')\n",
        "\n",
        "def tokenize(inputStr):\n",
        "  doc = nlp(inputStr)\n",
        "  # print(type(doc))\n",
        "  tokens = [str(token) for token in doc]\n",
        "  # print(type(tokens))\n",
        "  return tokens\n",
        "\n",
        "stopWords = set(stopwords.words('english'))\n",
        "# print(stopWords)\n",
        "def removeStopWords(tokenizedSentence):\n",
        "  filteredSent = []\n",
        "  wordsIgnored = 0\n",
        "  for token in tokenizedSentence:\n",
        "    if token in stopWords:\n",
        "      wordsIgnored+=1\n",
        "      continue\n",
        "    filteredSent.append(token)\n",
        "  # print(\"Words ignored=\",wordsIgnored)\n",
        "  outputStr = \" \".join(filteredSent)\n",
        "  return outputStr"
      ]
    },
    {
      "cell_type": "code",
      "execution_count": null,
      "metadata": {
        "colab": {
          "base_uri": "https://localhost:8080/"
        },
        "id": "ChT2EMws3z2H",
        "outputId": "4899f9bb-839d-4e46-eac1-81dfcce8c037"
      },
      "outputs": [
        {
          "name": "stdout",
          "output_type": "stream",
          "text": [
            "1/1 [==============================] - 0s 24ms/step\n"
          ]
        }
      ],
      "source": [
        "testSentences = [\"this is a bad product\", 'amazing music', \"horrible attitude of this politician\", \"This is shambolic\"]\n",
        "\n",
        "cleanedSentences = []\n",
        "for sen in testSentences:\n",
        "  cleanedSent  = removeStopWords(tokenize(sen))\n",
        "  cleanedSentences.append(cleanedSent)\n",
        "\n",
        "testSentences = np.array(cleanedSentences)\n",
        "\n",
        "x_as_ints = tokenizer.texts_to_sequences(testSentences)\n",
        "x_as_ints = tf.keras.preprocessing.sequence.pad_sequences(x_as_ints, maxlen=maxSeqLen)\n",
        "\n",
        "x = modelC.predict(x_as_ints)"
      ]
    },
    {
      "cell_type": "code",
      "execution_count": null,
      "metadata": {
        "colab": {
          "base_uri": "https://localhost:8080/"
        },
        "id": "T8nmnC8T4X-d",
        "outputId": "a96fc1c0-6ba9-4031-95b3-3a8c0efba145"
      },
      "outputs": [
        {
          "name": "stdout",
          "output_type": "stream",
          "text": [
            "[0.00375607]\n",
            "[0.99974316]\n",
            "[0.00089391]\n",
            "[0.8788685]\n"
          ]
        }
      ],
      "source": [
        "for prob in x:\n",
        "  if prob >= 0.5:\n",
        "    print(\"Positive\")\n",
        "  else:\n",
        "    print(\"Negative\")"
      ]
    },
    {
      "cell_type": "code",
      "execution_count": null,
      "metadata": {
        "colab": {
          "base_uri": "https://localhost:8080/"
        },
        "id": "8bUDcVMm4kfO",
        "outputId": "fb228af6-3cf7-4e9f-c6dc-52d6e1c3f325"
      },
      "outputs": [
        {
          "name": "stdout",
          "output_type": "stream",
          "text": [
            "[1.         0.7875     0.2        ... 0.65916667 0.6        0.54375   ]\n",
            "Epoch 1/10\n",
            "497/497 [==============================] - 13s 25ms/step - loss: 0.0181 - mse: 0.0181 - val_loss: 0.0119 - val_mse: 0.0119\n",
            "Epoch 2/10\n",
            "497/497 [==============================] - 12s 23ms/step - loss: 0.0100 - mse: 0.0100 - val_loss: 0.0113 - val_mse: 0.0113\n",
            "Epoch 3/10\n",
            "497/497 [==============================] - 12s 23ms/step - loss: 0.0077 - mse: 0.0077 - val_loss: 0.0094 - val_mse: 0.0094\n",
            "Epoch 4/10\n",
            "497/497 [==============================] - 11s 23ms/step - loss: 0.0054 - mse: 0.0054 - val_loss: 0.0085 - val_mse: 0.0085\n",
            "Epoch 5/10\n",
            "497/497 [==============================] - 11s 23ms/step - loss: 0.0039 - mse: 0.0039 - val_loss: 0.0082 - val_mse: 0.0082\n",
            "Epoch 6/10\n",
            "497/497 [==============================] - 11s 23ms/step - loss: 0.0031 - mse: 0.0031 - val_loss: 0.0084 - val_mse: 0.0084\n",
            "Epoch 7/10\n",
            "497/497 [==============================] - 11s 23ms/step - loss: 0.0026 - mse: 0.0026 - val_loss: 0.0082 - val_mse: 0.0082\n",
            "Epoch 8/10\n",
            "497/497 [==============================] - 11s 23ms/step - loss: 0.0022 - mse: 0.0022 - val_loss: 0.0080 - val_mse: 0.0080\n",
            "Epoch 9/10\n",
            "497/497 [==============================] - 11s 23ms/step - loss: 0.0020 - mse: 0.0020 - val_loss: 0.0079 - val_mse: 0.0079\n",
            "Epoch 10/10\n",
            "497/497 [==============================] - 11s 23ms/step - loss: 0.0018 - mse: 0.0018 - val_loss: 0.0083 - val_mse: 0.0083\n"
          ]
        }
      ],
      "source": [
        "print(y_train_as_ints_R)\n",
        "historyR = modelR.fit(x_train_as_ints, y_train_as_ints_R, epochs=10,validation_split=0.2,batch_size =64,callbacks=[checkpointR, tensorboard])"
      ]
    },
    {
      "cell_type": "code",
      "execution_count": null,
      "metadata": {
        "colab": {
          "base_uri": "https://localhost:8080/",
          "height": 472
        },
        "id": "t0y8e3aBPC6F",
        "outputId": "cd67ff92-58f2-4d87-f92a-d7db69f30960"
      },
      "outputs": [
        {
          "data": {
            "image/png": "[encoded data removed]",
            "text/plain": [
              "<Figure size 640x480 with 1 Axes>"
            ]
          },
          "metadata": {},
          "output_type": "display_data"
        }
      ],
      "source": [
        "import matplotlib.pyplot as plt\n",
        "import tensorflow as tf\n",
        "\n",
        "# Plot the training and validation loss vs epoch\n",
        "train_loss = historyR.history['loss']\n",
        "val_loss = historyR.history['val_loss']\n",
        "epochs = range(1, len(train_loss) + 1)\n",
        "\n",
        "plt.plot(epochs, train_loss, 'b', label='Training loss')\n",
        "plt.plot(epochs, val_loss, 'r', label='Validation loss')\n",
        "plt.title('Training and validation loss')\n",
        "plt.xlabel('Epochs')\n",
        "plt.ylabel('Loss')\n",
        "plt.legend()\n",
        "plt.show()"
      ]
    },
    {
      "cell_type": "code",
      "execution_count": null,
      "metadata": {
        "colab": {
          "base_uri": "https://localhost:8080/"
        },
        "id": "hWNNUARZQigC",
        "outputId": "4e173660-fe1a-47d5-e682-685cc1735139"
      },
      "outputs": [
        {
          "name": "stdout",
          "output_type": "stream",
          "text": [
            "533/533 [==============================] - 3s 6ms/step - loss: 0.0081 - mse: 0.0081\n"
          ]
        },
        {
          "data": {
            "text/plain": [
              "[0.008117620833218098, 0.008117620833218098]"
            ]
          },
          "execution_count": 69,
          "metadata": {},
          "output_type": "execute_result"
        }
      ],
      "source": [
        "modelR.load_weights(best_model_file_R)\n",
        "modelR.compile(loss='mse',optimizer='adam',metrics=['mse'])\n",
        "modelR.evaluate(x_test_as_ints,y_test_as_ints_R)"
      ]
    },
    {
      "cell_type": "code",
      "execution_count": null,
      "metadata": {
        "colab": {
          "base_uri": "https://localhost:8080/"
        },
        "id": "0VosGYvN4s4M",
        "outputId": "508c70cb-3ce8-4d68-91bf-f591bdb39973"
      },
      "outputs": [
        {
          "name": "stdout",
          "output_type": "stream",
          "text": [
            "1/1 [==============================] - 0s 94ms/step\n"
          ]
        }
      ],
      "source": [
        "testSentences = [\"this is a bad product\", 'amazing music', \"horrible attitude of this politician\", \"This is shambolic\"]\n",
        "\n",
        "cleanedSentences = []\n",
        "for sen in testSentences:\n",
        "  cleanedSent  = removeStopWords(tokenize(sen))\n",
        "  cleanedSentences.append(cleanedSent)\n",
        "\n",
        "testSentences = np.array(cleanedSentences)\n",
        "\n",
        "x_as_ints = tokenizer.texts_to_sequences(testSentences)\n",
        "x_as_ints = tf.keras.preprocessing.sequence.pad_sequences(x_as_ints, maxlen=maxSeqLen)\n",
        "\n",
        "x = modelR.predict(x_as_ints)"
      ]
    },
    {
      "cell_type": "code",
      "execution_count": null,
      "metadata": {
        "colab": {
          "base_uri": "https://localhost:8080/"
        },
        "id": "nKQXRfI94vBt",
        "outputId": "c6b1f4cc-bcdf-4248-a944-7612d748c71b"
      },
      "outputs": [
        {
          "name": "stdout",
          "output_type": "stream",
          "text": [
            "Polarities\n",
            "[0.10222226]\n",
            "[0.8041912]\n",
            "[0.06022811]\n",
            "[0.49284095]\n"
          ]
        }
      ],
      "source": [
        "print(\"Polarities\")\n",
        "for pol in x:\n",
        "  print(pol)"
      ]
    }
  ],
  "metadata": {
    "colab": {
      "provenance": []
    },
    "kernelspec": {
      "display_name": "Python 3",
      "name": "python3"
    },
    "language_info": {
      "name": "python"
    }
  },
  "nbformat": 4,
  "nbformat_minor": 0
}
